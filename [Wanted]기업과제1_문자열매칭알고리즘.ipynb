{
  "nbformat": 4,
  "nbformat_minor": 0,
  "metadata": {
    "colab": {
      "name": "[Wanted]기업과제1_문자열매칭알고리즘.ipynb",
      "provenance": [],
      "collapsed_sections": []
    },
    "kernelspec": {
      "name": "python3",
      "display_name": "Python 3"
    },
    "language_info": {
      "name": "python"
    }
  },
  "cells": [
    {
      "cell_type": "markdown",
      "source": [
        "## 문자열 매칭 알고리즘 구현\n",
        "\n",
        "문자열 집합 S가 존재한다\n",
        "ex) S = {\"www\",\"xman\",\"yman\"}.\n",
        " 임의의 문자열이 N개 주어졌을때 각 임의의 문자열 내에 집합 S에 속하는 문자열이 존재하는지 판별하시오.\n",
        "\n",
        "아래의 문제를 순서대로 작성하세요. 1번만 푸셔도 됩니다.\n",
        "1. 문자열의 여러 부분 문자열 중 하나라도 집합 S에 있으면 'YES'를 출력하고, 아무것도없으면 'NO'를 출력한다.\n",
        "2. 주어진 문자열의 여러부분 문자열 중 처음 매칭된 패턴과 문자열 시작 포지션을 출력한다.\n",
        "3. 주어진 문자열의 여러부분 문자열 중 매칭 가능한 모든 패턴과 문자열 시작 포지션을 출력한다.\n",
        "\n",
        "## 입력\n",
        "첫째 줄에 집합 S의 크기 N이 주어진다. (1 ≤ N ≤ 1000)\n",
        "\n",
        "다음 N개 줄에 집합 S의 원소들이 주어진다. 이 문자열의 길이는 100을 넘지 않는다.\n",
        "다음 줄에 답을 판별해야 하는 문자열의 개수 Q가 주어진다. (1 ≤ Q ≤ 1000)\n",
        "\n",
        "다음 Q개 줄에 답을 판별해야 하는 문자열이 주어진다. 이 문자열의 길이는 10000을 넘지\n",
        "않는다.\n",
        "입력으로 주어지는 모든 문자열은 알파벳 소문자로만 이루어져 있다.\n",
        "\n",
        "## 출력\n",
        "Q개 줄에 각 문자열에 대한 답을 출력한다.\n",
        "\n",
        "\n",
        "### 예제 입력\n",
        "```\n",
        "9(문자열 집합S의 원소 개수)\n",
        "\"aaa\",\"\"aaaabb\", \"\"aabbcc\", \"abb\", \"bcc\", \"bbcc\", \"aabbccdd\", \"aaabb”, “cccd”\n",
        "(comma, new line 구분은 자유)\n",
        "1(매칭 대상 문자열 수)\n",
        "\"aaaabbaabbccdd\"\n",
        "```\n",
        "\n",
        "### 예제 출력\n",
        "출력형식은 무관합니다.\n",
        "1. 문자열 집합 중 “cccd”만 주어진 문자열의 부분 문자열에 속하지 않으므로 YES, YES,\n",
        "YES, YES, YES, YES, YES, YES, NO 이다.\n",
        "2. 아래와같이 첫번째로 매칭된 패턴의 시작포지션과 문자열 패턴을 출력한다.\n",
        "    \n",
        "    #pos = 0, pattern = aaa\n",
        "\n",
        "    #pos = 0, pattern = aaaabb\n",
        "    \n",
        "    #pos = 6, pattern = aabbcc\n",
        "    \n",
        "    #pos = 3, pattern = abb\n",
        "    \n",
        "    #pos = 9, pattern = bcc\n",
        "    \n",
        "    #pos = 8, pattern = bbcc\n",
        "    \n",
        "    #pos = 6, pattern = aabbccdd\n",
        "    \n",
        "    #pos = 1, pattern = aaabb\n",
        "\n",
        "3. 아래와같이 가능한 모든 문자열 패턴의 시작 포지션과 문자열 패턴을 출력한다\n",
        "\n",
        "    #pos = 0, pattern = aaa\n",
        "    \n",
        "    #pos = 1, pattern = aaa\n",
        "    \n",
        "    #pos = 1, pattern = aaabb\n",
        "    \n",
        "    #pos = 3, pattern = abb\n",
        "    \n",
        "    #pos = 0, pattern = aaaabb\n",
        "    \n",
        "    #pos = 7, pattern = abb\n",
        "    \n",
        "    #pos = 8, pattern = bbcc\n",
        "    \n",
        "    #pos = 9, pattern = bcc\n",
        "    \n",
        "    #pos = 6, pattern = aabbcc\n",
        "    \n",
        "    #pos = 6, pattern = aabbccdd\n"
      ],
      "metadata": {
        "id": "VKVHXJNrjQ8D"
      }
    },
    {
      "cell_type": "markdown",
      "source": [
        "## 코드 설명\n",
        "1. pattern_set : set 자료형으로 pattern들을 담고 있음\n",
        "2. string_list : 검증하고자 하는 string 을 list 형태로 담고 있음.(set일 경우 중복 입력시 에러가 나고, 순서 정보가 담겨 있지 않아 정돈되지 않음)\n",
        "3. defaultdict : 매칭되는 여러 position에 대한 정보를 담을 때, 더욱 가독성 있고 짧은 코딩을 위해 import\n",
        "4. self.anaysis(1~3) : 각각의 출력 결과를 Nested dictionary 형태로 저장한 data 변수(json 변환 가능)"
      ],
      "metadata": {
        "id": "xV1B_Wt85fad"
      }
    },
    {
      "cell_type": "code",
      "source": [
        "# import sys\n",
        "# inp = sys.stdin.readline\n",
        "import re\n",
        "from collections import defaultdict\n",
        "\n",
        "# 변수 입력 및 확인하는 작업\n",
        "N = int(input())\n",
        "pattern_set = {input().rstrip() for i in range(N)}\n",
        "print(f'pattern set is : {pattern_set}')\n",
        "Q = int(input())\n",
        "str_list = [input().rstrip() for i in range(Q)]\n",
        "print(f'string list is : {str_list}')\n",
        "\n",
        "\n",
        "class WordMatching:\n",
        " def __init__(self,pattern_set=set, str_list=list):\n",
        "  self.pattern_set=pattern_set\n",
        "  self.str_list=str_list\n",
        "  self.analysis1=dict() # 문제 1번의 데이터 저장소\n",
        "  self.analysis2=dict() # 문제 2번의 데이터 저장소\n",
        "  self.analysis3=dict() # 문제 3번의 데이터 저장소\n",
        "\n",
        "#1. 문자열 당 패턴 유무 출력\n",
        " def match_yesno(self):\n",
        "  for string in self.str_list:\n",
        "   self.analysis1[string]=dict()\n",
        "   print(f'Are following patterns in \\'{string}\\'?')\n",
        "   for pattern in self.pattern_set:\n",
        "    match = re.compile(pattern).search(string)\n",
        "    if match==None:\n",
        "     self.analysis1[string][pattern] = 'NO'\n",
        "    else:\n",
        "     self.analysis1[string][pattern] = 'YES'\n",
        "    print(f'{pattern} : {self.analysis1[string][pattern]}')\n",
        "\n",
        "#2. 첫 문자열 패턴 출력\n",
        " def match_findfirst(self):\n",
        "  for string in self.str_list:\n",
        "   self.analysis2[string]=dict()\n",
        "   print(f'FIRST matching pattern of string \\'{string}\\' is descripted below:')\n",
        "   for pattern in self.pattern_set:\n",
        "    match = re.compile(pattern).search(string)\n",
        "    if match!=None:\n",
        "     self.analysis2[string][pattern]=match.start()\n",
        "     print(f'#pos = {match.start()}, pattern = {pattern}')\n",
        "\n",
        " #3. 모든 문자열 패턴 출력\n",
        " def match_findall(self):\n",
        "  for string in self.str_list:\n",
        "   self.analysis3[string]=defaultdict(list)\n",
        "   print(f'ALL matching patterns of string \\'{string}\\' is descripted below:')\n",
        "   for pattern in self.pattern_set:\n",
        "    matched = re.compile(pattern).finditer(string)\n",
        "    for match in matched:\n",
        "     if match != None:\n",
        "      self.analysis3[string][pattern].append(match.start())\n",
        "      print(f'#pos = {match.start()}, pattern = {pattern}')\n",
        "\n",
        "\n",
        "# 인스턴스 생성\n",
        "s1=WordMatching(pattern_set,str_list)"
      ],
      "metadata": {
        "colab": {
          "base_uri": "https://localhost:8080/"
        },
        "id": "1rXZTy0evTuf",
        "outputId": "3751fbb9-0700-4669-df17-47a541d9930e"
      },
      "execution_count": null,
      "outputs": [
        {
          "output_type": "stream",
          "name": "stdout",
          "text": [
            "2\n",
            "사랑\n",
            "우정\n",
            "pattern set is : {'우정', '사랑'}\n",
            "2\n",
            "사랑보다 먼, 우정보다는 가까운\n",
            "사랑, 사랑, 사랑\n",
            "string list is : ['사랑보다 먼, 우정보다는 가까운', '사랑, 사랑, 사랑']\n"
          ]
        }
      ]
    },
    {
      "cell_type": "code",
      "source": [
        "# Yes no matching 확인\n",
        "s1.match_yesno()\n",
        "print(s1.analysis1)\n"
      ],
      "metadata": {
        "colab": {
          "base_uri": "https://localhost:8080/"
        },
        "id": "aNO2hkh86hI7",
        "outputId": "7d630abc-2455-4c36-e909-fbf6b369788c"
      },
      "execution_count": null,
      "outputs": [
        {
          "output_type": "stream",
          "name": "stdout",
          "text": [
            "Are following patterns in '사랑보다 먼, 우정보다는 가까운'?\n",
            "우정 : YES\n",
            "사랑 : YES\n",
            "Are following patterns in '사랑, 사랑, 사랑'?\n",
            "우정 : NO\n",
            "사랑 : YES\n",
            "{'사랑보다 먼, 우정보다는 가까운': {'우정': 'YES', '사랑': 'YES'}, '사랑, 사랑, 사랑': {'우정': 'NO', '사랑': 'YES'}}\n"
          ]
        }
      ]
    },
    {
      "cell_type": "code",
      "source": [
        "s1.match_findfirst()\n",
        "print(s1.analysis2)"
      ],
      "metadata": {
        "colab": {
          "base_uri": "https://localhost:8080/"
        },
        "id": "Y7jE4PVm8vdk",
        "outputId": "0b48bbb3-7dc3-4408-e362-3126088cbc5b"
      },
      "execution_count": null,
      "outputs": [
        {
          "output_type": "stream",
          "name": "stdout",
          "text": [
            "FIRST matching pattern of string '사랑보다 먼, 우정보다는 가까운' is descripted below:\n",
            "#pos = 8, pattern = 우정\n",
            "#pos = 0, pattern = 사랑\n",
            "FIRST matching pattern of string '사랑, 사랑, 사랑' is descripted below:\n",
            "#pos = 0, pattern = 사랑\n",
            "{'사랑보다 먼, 우정보다는 가까운': {'우정': 8, '사랑': 0}, '사랑, 사랑, 사랑': {'사랑': 0}}\n"
          ]
        }
      ]
    },
    {
      "cell_type": "code",
      "source": [
        "s1.match_findall()\n",
        "print(s1.analysis3)"
      ],
      "metadata": {
        "colab": {
          "base_uri": "https://localhost:8080/"
        },
        "id": "cfArRMbS8y6c",
        "outputId": "0634ceea-c3f0-49eb-8325-0826716c6974"
      },
      "execution_count": null,
      "outputs": [
        {
          "output_type": "stream",
          "name": "stdout",
          "text": [
            "ALL matching patterns of string '사랑보다 먼, 우정보다는 가까운' is descripted below:\n",
            "#pos = 8, pattern = 우정\n",
            "#pos = 0, pattern = 사랑\n",
            "ALL matching patterns of string '사랑, 사랑, 사랑' is descripted below:\n",
            "#pos = 0, pattern = 사랑\n",
            "#pos = 4, pattern = 사랑\n",
            "#pos = 8, pattern = 사랑\n",
            "{'사랑보다 먼, 우정보다는 가까운': defaultdict(<class 'list'>, {'우정': [8], '사랑': [0]}), '사랑, 사랑, 사랑': defaultdict(<class 'list'>, {'사랑': [0, 4, 8]})}\n"
          ]
        }
      ]
    }
  ]
}